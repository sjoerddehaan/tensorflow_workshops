{
 "cells": [
  {
   "cell_type": "markdown",
   "metadata": {},
   "source": [
    "# TensorFlow Essentials\n",
    "## Sjoerd de Haan\n",
    "### 29 January 2018 - Pipele Factory Amsterdam"
   ]
  },
  {
   "cell_type": "markdown",
   "metadata": {},
   "source": [
    "#### Exercise 1: Stock value\n",
    "\n",
    "A small buissness has a couple of products in stock, and we would like to know the the total value of its stock. You are given the price and the number of items for each product on stock, as two Python lists.\n",
    "\n",
    "Write a function `get_total` that calculates the value of all stock items together. Take two lists as input and use pure Python. Do not make use of libraries."
   ]
  },
  {
   "cell_type": "code",
   "execution_count": 1,
   "metadata": {},
   "outputs": [],
   "source": [
    "prices = [3, 2, 21, 14]\n",
    "amounts = [126, 287, 161, 34]"
   ]
  },
  {
   "cell_type": "markdown",
   "metadata": {},
   "source": [
    "####  Exercise 2: Inner product\n",
    "The total value of the inventory is the inner product between the price vector and the amounts vector; why? Explain this in words."
   ]
  },
  {
   "cell_type": "markdown",
   "metadata": {},
   "source": [
    "####  Exercise 3: Calculate the stock value using Numpy\n",
    "\n",
    "Inner products can be calculated conveniently with the Numpy function `dot`. Adapt the function of exercise 1 to make use of this function. *hint: make use of the build-in help function for `dot`*."
   ]
  },
  {
   "cell_type": "markdown",
   "metadata": {},
   "source": [
    "####  Exercise 4: Calculate the stock value using TensorFlow\n",
    "Inner products can be calculated with the TensorFlow function `tensordot`. Adapt the function of exercise 1 to compute the inventory value with the help of tensorflow.\n",
    "\n",
    "1. Read the TensorFlow documentation on [tensordot](https://www.tensorflow.org/versions/r1.3/api_docs/python/tf/tensordot)\n",
    "2. Try to calculate the innter product of two tensors with TensorFlow\n",
    "3. Wrap the calculation in a function. Within this function, set up a computation graph, start a session and perform the calculation. Return the outcome of the calculation.\n",
    "\n",
    "*hint: an example of how to calculate an inner product of two vectors in TensorFlow can be found at this [stack-exchange question](https://stackoverflow.com/questions/40670370/dot-product-of-two-vectors-in-tensorflow)*"
   ]
  },
  {
   "cell_type": "markdown",
   "metadata": {},
   "source": [
    "#### Exercise 5: Reduce functions\n",
    "In the example 'Sum of squares', we square real numbers and add these to the variable `sum_of_squares`. The placeholder `x` only scalars (numbers). \n",
    "\n",
    "1. Change the code to accept tensors of arbitrary rank  \n",
    "*hint check the documentation of [`reduce_sum`](https://www.tensorflow.org/api_docs/python/tf/reduce_mean)*\n",
    "2. Read the documentation of other reduce functions. What does a reduce function do?\n",
    "3. Create a code example with another reduce function\n",
    "4. The Pythagorean theorem, $$a^2 + b^2 = c^2\\,,$$ can be extended to arbitrary dimensions greater than one (2, 3, 4, 5, ...), where it can be used to calculate the length of the diagonal for any hyper box. For example, in four dimensions it reads\n",
    "$$a^2 + b^2 + c^2 = d^2\\,.$$\n",
    "Write a function that uses TensorFlow to calculate the length of the diagonal, given a list with the lengths of the sides of the hyper box.  \n",
    "*hint: see [How would Pythagorean's theorem work in higher dimensions?](https://math.stackexchange.com/questions/1588798/how-would-pythagoreans-theorem-work-in-higher-dimensions-general-question)*\n"
   ]
  },
  {
   "cell_type": "markdown",
   "metadata": {},
   "source": [
    "#### Exercise 6: Logging\n",
    "You are going to visualize the computation graph created by the function that you wrote in exercise 4.\n",
    "\n",
    "1. Think of a good directory name for storing the log files. What did you choose?\n",
    "1. Copy paste the function you wrote for exercise 4. Add a summary writer to the computation graph and include it in the session.  \n",
    "*hint: the lecture notes on logging contain a similar setup*\n",
    "1. Open TensorBoard to visualise the computation graph\n",
    "1. Run the function `get_total` a couple of times. What happens to the computation graph? What can you do to prevent this?\n",
    "1. Adapt the function from exercise 4 to prevent this behavior.\n",
    "\n"
   ]
  },
  {
   "cell_type": "markdown",
   "metadata": {},
   "source": [
    "#### Exercises 7: Exponential Moving average\n",
    "\n",
    "\n",
    "This exercise refers to the case study on moving averages from the presentation.\n",
    "\n",
    "1. How is raw_data generated? What is its distribution?  \n",
    "*Hint* make use of the help function, thus `?np.random.normal`\n",
    "1. Describe the two lines in the plot \n",
    "2. Why does the moving average start out in the lower left corner?\n",
    "3. What is a better starting point for the moving average? \n",
    "4. Adapt the moving average procedure to start at a better point  \n",
    "*Hint:  Make sure you understand the difference between `10` and `10.` in Python. One is a an integer, while the other is a float.*"
   ]
  },
  {
   "cell_type": "markdown",
   "metadata": {},
   "source": [
    "#### Exercise 8: Smoothing parameter\n",
    "\n",
    "This exercise continues the previous exercise.\n",
    "\n",
    "1. Create a second moving average with smoothing parameter $\\alpha=0.2$\n",
    "1. Add the second moving average to the plot\n",
    "1. Which line is smoother? Can you explain the name 'smoothing parameter'?\n",
    "1. Make the moving averages start at zero. Which line goes up faster from 0 to 10? Why?"
   ]
  }
 ],
 "metadata": {
  "kernelspec": {
   "display_name": "Python 3",
   "language": "python",
   "name": "python3"
  },
  "language_info": {
   "codemirror_mode": {
    "name": "ipython",
    "version": 3
   },
   "file_extension": ".py",
   "mimetype": "text/x-python",
   "name": "python",
   "nbconvert_exporter": "python",
   "pygments_lexer": "ipython3",
   "version": "3.6.3"
  },
  "toc": {
   "nav_menu": {},
   "number_sections": true,
   "sideBar": true,
   "skip_h1_title": false,
   "toc_cell": false,
   "toc_position": {},
   "toc_section_display": "block",
   "toc_window_display": false
  }
 },
 "nbformat": 4,
 "nbformat_minor": 2
}
